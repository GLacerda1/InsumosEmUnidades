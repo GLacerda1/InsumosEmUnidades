{
  "cells": [
    {
      "cell_type": "markdown",
      "metadata": {
        "id": "De_fFsYojodv"
      },
      "source": [
        "# Controle de Estoque com Programação Dinâmica\n",
        "\n",
        "## Contexto do Problema\n",
        "\n",
        "Nas unidades de diagnóstico, o consumo diário de insumos (reagentes e descartáveis) **não é registrado com precisão**, dificultando o controle de estoque e a previsão de reposição.\n",
        "\n",
        "O objetivo deste projeto é propor um **modelo baseado em Programação Dinâmica (PD)** para definir uma **política de reposição ótima**, que minimize custos esperados e reduza desperdícios ao longo de um horizonte finito de tempo (por exemplo, 30 dias).\n",
        "\n",
        "---\n",
        "\n",
        "## Formulação Matemática do Problema\n",
        "\n",
        "### Horizonte de Planejamento\n",
        "- Horizonte finito de T dias.\n",
        "\n",
        "### Estado\n",
        "- s_t: nível de estoque no início do dia t, variando de 0 a S_max.\n",
        "\n",
        "### Decisão\n",
        "- a_t: quantidade a pedir no início do dia t, variando de 0 a A_max.  \n",
        "- Simplificação: recebimento imediato do pedido.\n",
        "\n",
        "### Demanda Estocástica\n",
        "- D_t: consumo diário de insumos, modelado como variável aleatória com distribuição conhecida (ex.: Poisson truncada).  \n",
        "- Representa a incerteza no consumo real, estimada a partir de registros históricos ruidosos.\n",
        "\n",
        "### Transição de Estado\n",
        "- Após o pedido e a ocorrência da demanda, o estoque do dia seguinte é atualizado:  \n",
        "  - Se a demanda exceder o estoque, ocorre **ruptura** (estoque zerado).  \n",
        "  - Caso contrário, o estoque remanescente é carregado para o próximo dia.\n",
        "\n",
        "### Estrutura de Custos\n",
        "| Tipo de Custo | Símbolo | Descrição |\n",
        "|---------------|---------|-----------|\n",
        "| Custo fixo por pedido | K | Custo administrativo/logístico de cada pedido |\n",
        "| Custo unitário de compra | c | Custo por unidade pedida |\n",
        "| Custo de armazenagem | h | Custo por unidade mantida em estoque |\n",
        "| Custo de falta (ruptura) | p | Penalidade por unidade não atendida |\n",
        "\n",
        "### Função Objetivo\n",
        "- Minimizar o **custo total esperado** ao longo do horizonte.  \n",
        "- O custo considera:\n",
        "  - custo de compra e pedido,\n",
        "  - custo de armazenagem,\n",
        "  - custo de falta (ruptura),\n",
        "  - custo futuro esperado (baseado na política ótima).\n",
        "\n",
        "### Interpretação Prática\n",
        "- O modelo equilibra o trade-off entre:\n",
        "  - **Evitar rupturas** (mantendo estoque adequado);  \n",
        "  - **Evitar desperdício e custos de armazenagem** (mantendo estoque enxuto).\n",
        "\n",
        "- Ajustando os parâmetros K, c, h, p e a distribuição de demanda, é possível adaptar a política para diferentes unidades e tipos de insumos.\n"
      ]
    },
    {
      "cell_type": "markdown",
      "metadata": {
        "id": "i-AVwOPckUwT"
      },
      "source": [
        "# Imports e utilitários"
      ]
    },
    {
      "cell_type": "code",
      "execution_count": 9,
      "metadata": {
        "id": "6xGrC2r8jcb_"
      },
      "outputs": [],
      "source": [
        "# Importa bibliotecas padrão e científicas necessárias\n",
        "import math\n",
        "import random\n",
        "from dataclasses import dataclass\n",
        "from functools import lru_cache\n",
        "from typing import Callable, Dict, List, Tuple\n",
        "\n",
        "import numpy as np  # usado para cálculos numéricos e tabelas de valores\n",
        "\n",
        "# Define uma semente (seed) para reprodutibilidade — garante que os resultados\n",
        "# das simulações sejam os mesmos toda vez que o código for executado\n",
        "RANDOM_SEED = 42\n",
        "random.seed(RANDOM_SEED)\n",
        "np.random.seed(RANDOM_SEED)\n"
      ]
    },
    {
      "cell_type": "markdown",
      "metadata": {
        "id": "KQhX1_S0kjYE"
      },
      "source": [
        "# Parâmetros do problema"
      ]
    },
    {
      "cell_type": "code",
      "execution_count": 10,
      "metadata": {
        "colab": {
          "base_uri": "https://localhost:8080/"
        },
        "id": "-_-AOzokkq7f",
        "outputId": "8c65f37f-c533-4b08-9d2e-50ae6de14b2f"
      },
      "outputs": [
        {
          "name": "stdout",
          "output_type": "stream",
          "text": [
            "Horizonte T=30, S_max=50, A_max=50\n"
          ]
        }
      ],
      "source": [
        "@dataclass\n",
        "class InventoryParams:\n",
        "    \"\"\"\n",
        "    Classe que agrupa todos os parâmetros do modelo de controle de estoque.\n",
        "    Usar dataclass ajuda a organizar e acessar facilmente os valores.\n",
        "    \"\"\"\n",
        "    T: int                  # Horizonte de planejamento (número de dias)\n",
        "    S_max: int              # Estoque máximo considerado (capacidade)\n",
        "    A_max: int              # Quantidade máxima que pode ser pedida em um dia\n",
        "    holding_cost: float     # Custo por unidade mantida em estoque por dia\n",
        "    shortage_cost: float    # Custo por unidade em falta (ruptura)\n",
        "    unit_cost: float        # Custo unitário de compra do insumo\n",
        "    fixed_order_cost: float # Custo fixo por pedido (ex: custo administrativo)\n",
        "    demand_pmf_funcs: List[Callable[[int], float]]  # Lista de distribuições de demanda (PMFs por dia)\n",
        "\n",
        "# Função auxiliar: gera uma PMF (distribuição de probabilidade discreta)\n",
        "# da demanda usando uma distribuição de Poisson truncada.\n",
        "def make_truncated_poisson_pmf(lmbda: float, max_d: int) -> Callable[[int], float]:\n",
        "    \"\"\"\n",
        "    Retorna uma função pmf(d) para uma distribuição de Poisson(λ) truncada em [0, max_d].\n",
        "    É usada para modelar a incerteza na demanda diária.\n",
        "    \"\"\"\n",
        "    # Calcula as probabilidades até max_d\n",
        "    probs = [math.exp(-lmbda) * (lmbda ** d) / math.factorial(d) for d in range(max_d + 1)]\n",
        "    # Normaliza para garantir que somem 1 (por causa do truncamento)\n",
        "    Z = sum(probs)\n",
        "    normalized = [p / Z for p in probs]\n",
        "\n",
        "    def pmf(d: int) -> float:\n",
        "        \"\"\"Retorna a probabilidade de demanda igual a d.\"\"\"\n",
        "        if 0 <= d <= max_d:\n",
        "            return normalized[d]\n",
        "        return 0.0\n",
        "\n",
        "    return pmf\n",
        "\n",
        "\n",
        "# Define parâmetros do problema (podem ser ajustados conforme o caso real)\n",
        "T = 30                   # Horizonte de 30 dias\n",
        "S_max = 50               # Estoque máximo de 50 unidades\n",
        "A_max = 50               # Máximo que pode ser pedido por dia\n",
        "holding_cost = 0.1       # Custo de armazenagem\n",
        "shortage_cost = 10.0     # Custo de falta (ruptura)\n",
        "unit_cost = 1.0          # Custo por unidade comprada\n",
        "fixed_order_cost = 5.0   # Custo fixo por pedido\n",
        "\n",
        "# Define uma média de demanda que varia levemente ao longo da semana (padrão sazonal)\n",
        "demand_means = [8 + 2 * math.sin(2 * math.pi * t / 7) for t in range(T)]\n",
        "\n",
        "# Cria uma lista de funções PMF (uma para cada dia)\n",
        "demand_pmfs = [make_truncated_poisson_pmf(mu, S_max + A_max) for mu in demand_means]\n",
        "\n",
        "# Instancia os parâmetros do modelo\n",
        "params = InventoryParams(\n",
        "    T=T, S_max=S_max, A_max=A_max,\n",
        "    holding_cost=holding_cost, shortage_cost=shortage_cost,\n",
        "    unit_cost=unit_cost, fixed_order_cost=fixed_order_cost,\n",
        "    demand_pmf_funcs=demand_pmfs\n",
        ")\n",
        "\n",
        "# Exibe informações básicas para conferência\n",
        "print(f\"Horizonte T={params.T}, S_max={params.S_max}, A_max={params.A_max}\")\n"
      ]
    },
    {
      "cell_type": "markdown",
      "metadata": {
        "id": "74Hc9htCktRB"
      },
      "source": [
        "# Funções que calculam custo imediato esperado e transição probabilística"
      ]
    },
    {
      "cell_type": "code",
      "execution_count": 11,
      "metadata": {
        "id": "eAbDbAUukwBD"
      },
      "outputs": [],
      "source": [
        "def expected_post_demand_cost_and_next_states(\n",
        "    s: int, a: int, t: int, params: InventoryParams\n",
        ") -> Tuple[float, Dict[int, float]]:\n",
        "    \"\"\"\n",
        "    Calcula:\n",
        "      - O custo esperado imediato (pedido + armazenagem + falta)\n",
        "      - As probabilidades dos possíveis estados seguintes (s_{t+1})\n",
        "\n",
        "    Parâmetros:\n",
        "        s: estoque atual\n",
        "        a: quantidade pedida\n",
        "        t: dia atual\n",
        "        params: objeto com parâmetros do modelo\n",
        "    \"\"\"\n",
        "    # Custo de pedido é determinístico: custo fixo + custo unitário * quantidade\n",
        "    order_cost = params.unit_cost * a + (params.fixed_order_cost if a > 0 else 0.0)\n",
        "\n",
        "    # Estoque disponível logo após o pedido\n",
        "    s_post = s + a\n",
        "\n",
        "    # PMF da demanda do dia t (função que retorna probabilidade P(D_t = d))\n",
        "    pmf = params.demand_pmf_funcs[t]\n",
        "\n",
        "    # Inicializa valores esperados e dicionário de estados futuros\n",
        "    expected_holding_cost = 0.0\n",
        "    expected_shortage_cost = 0.0\n",
        "    next_state_probs: Dict[int, float] = {}\n",
        "    max_d = params.S_max + params.A_max  # Limite superior para demanda simulada\n",
        "\n",
        "    # Percorre todas as possíveis demandas d\n",
        "    for d in range(max_d + 1):\n",
        "        p = pmf(d)  # probabilidade de ocorrer demanda d\n",
        "        if p == 0.0:\n",
        "            continue\n",
        "\n",
        "        # Calcula estoque no fim do dia\n",
        "        s_end = max(0, s_post - d)\n",
        "\n",
        "        # Custo de armazenagem (proporcional ao estoque final)\n",
        "        holding = params.holding_cost * s_end\n",
        "\n",
        "        # Custo de falta (quando demanda > estoque disponível)\n",
        "        shortage = params.shortage_cost * max(0, d - s_post)\n",
        "\n",
        "        # Atualiza valores esperados\n",
        "        expected_holding_cost += p * holding\n",
        "        expected_shortage_cost += p * shortage\n",
        "\n",
        "        # Armazena probabilidade do estado futuro s_end\n",
        "        next_state_probs[s_end] = next_state_probs.get(s_end, 0.0) + p\n",
        "\n",
        "    # Soma de todos os custos esperados\n",
        "    immediate_expected_cost = order_cost + expected_holding_cost + expected_shortage_cost\n",
        "\n",
        "    return immediate_expected_cost, next_state_probs\n"
      ]
    },
    {
      "cell_type": "markdown",
      "metadata": {
        "id": "zvBLcZ34kx3x"
      },
      "source": [
        "# Versão recursiva com memorização (top-down)"
      ]
    },
    {
      "cell_type": "code",
      "execution_count": 12,
      "metadata": {
        "id": "JwnDFfQWk411"
      },
      "outputs": [],
      "source": [
        "def solve_dp_recursive(params: InventoryParams):\n",
        "    \"\"\"\n",
        "    Resolve o problema via Programação Dinâmica recursiva.\n",
        "    Utiliza memoização (cache) para evitar recomputar subproblemas.\n",
        "\n",
        "    Retorna:\n",
        "      - V_table: tabela com valores ótimos V_t(s)\n",
        "      - policy: política ótima (ação ótima para cada estado)\n",
        "    \"\"\"\n",
        "    T = params.T\n",
        "    S_max = params.S_max\n",
        "    A_max = params.A_max\n",
        "\n",
        "    @lru_cache(maxsize=None)\n",
        "    def V(t: int, s: int) -> float:\n",
        "        \"\"\"Função-valor ótima recursiva: custo mínimo esperado a partir do estado (t, s).\"\"\"\n",
        "        if t >= T:\n",
        "            return 0.0  # horizonte atingido → custo futuro nulo\n",
        "\n",
        "        best = float(\"inf\")  # inicializa o melhor custo com infinito\n",
        "\n",
        "        # Testa todas as possíveis ações (pedidos)\n",
        "        for a in range(0, A_max + 1):\n",
        "            if s + a > S_max + A_max:\n",
        "                break\n",
        "\n",
        "            # Custo esperado e estados seguintes\n",
        "            immediate_cost, next_state_probs = expected_post_demand_cost_and_next_states(s, a, t, params)\n",
        "\n",
        "            # Calcula custo futuro esperado ponderando pelos estados possíveis\n",
        "            future = sum(p * V(t + 1, s_next) for s_next, p in next_state_probs.items())\n",
        "\n",
        "            # Custo total (imediato + futuro)\n",
        "            total = immediate_cost + future\n",
        "\n",
        "            # Mantém o melhor (mínimo)\n",
        "            best = min(best, total)\n",
        "\n",
        "        return best\n",
        "\n",
        "    # Monta a política ótima (ação ótima para cada par (t, s))\n",
        "    policy = {}\n",
        "    for t in range(T):\n",
        "        for s in range(S_max + 1):\n",
        "            best_a, best_val = 0, float(\"inf\")\n",
        "            for a in range(0, A_max + 1):\n",
        "                if s + a > S_max + A_max:\n",
        "                    break\n",
        "                immediate_cost, next_state_probs = expected_post_demand_cost_and_next_states(s, a, t, params)\n",
        "                future = sum(p * V(t + 1, s_next) for s_next, p in next_state_probs.items())\n",
        "                total = immediate_cost + future\n",
        "                if total < best_val:\n",
        "                    best_val, best_a = total, a\n",
        "            policy[(t, s)] = best_a\n",
        "\n",
        "    # Cria tabela de valores (V_table) para visualização\n",
        "    V_table = np.zeros((T + 1, S_max + 1))\n",
        "    for t in range(T + 1):\n",
        "        for s in range(S_max + 1):\n",
        "            V_table[t, s] = V(t, s) if t < T else 0.0\n",
        "\n",
        "    return V_table, policy\n"
      ]
    },
    {
      "cell_type": "markdown",
      "metadata": {
        "id": "Dmx4CXwUk8fL"
      },
      "source": [
        "# Versão iterativa bottom-up"
      ]
    },
    {
      "cell_type": "code",
      "execution_count": 13,
      "metadata": {
        "id": "2Kg0jYHIk_FG"
      },
      "outputs": [],
      "source": [
        "def solve_dp_iterative(params: InventoryParams):\n",
        "    \"\"\"\n",
        "    Resolve o mesmo problema de estoque via abordagem iterativa.\n",
        "    Constrói a tabela de custos V[t, s] de baixo para cima.\n",
        "\n",
        "    Vantagem: mais eficiente em Python e sem recursão.\n",
        "    \"\"\"\n",
        "    T = params.T\n",
        "    S_max = params.S_max\n",
        "    A_max = params.A_max\n",
        "\n",
        "    # Inicializa tabelas de valor e política\n",
        "    V = np.zeros((T + 1, S_max + 1))\n",
        "    policy = {}\n",
        "\n",
        "    # Condição de parada: no último dia (T), custo futuro é zero.\n",
        "    # Percorre o horizonte de trás para frente.\n",
        "    for t in reversed(range(T)):\n",
        "        for s in range(S_max + 1):\n",
        "            best_val, best_a = float(\"inf\"), 0\n",
        "\n",
        "            # Testa todas as ações possíveis\n",
        "            for a in range(0, A_max + 1):\n",
        "                if s + a > S_max + A_max:\n",
        "                    break\n",
        "\n",
        "                # Cálculo de custo esperado imediato + futuro\n",
        "                immediate_cost, next_state_probs = expected_post_demand_cost_and_next_states(s, a, t, params)\n",
        "                future = sum(p * V[t + 1, min(s_next, S_max)] for s_next, p in next_state_probs.items())\n",
        "\n",
        "                total = immediate_cost + future\n",
        "\n",
        "                if total < best_val:\n",
        "                    best_val, best_a = total, a\n",
        "\n",
        "            # Guarda o valor ótimo e a ação correspondente\n",
        "            V[t, s] = best_val\n",
        "            policy[(t, s)] = best_a\n",
        "\n",
        "    return V, policy\n"
      ]
    },
    {
      "cell_type": "markdown",
      "metadata": {
        "id": "I8CHYS9zlBkl"
      },
      "source": [
        "# Executar ambas soluções e comparar"
      ]
    },
    {
      "cell_type": "code",
      "execution_count": 15,
      "metadata": {
        "colab": {
          "base_uri": "https://localhost:8080/"
        },
        "id": "nLNF65uylFFl",
        "outputId": "4a1a62cb-c03a-4d9a-b508-55f3e19149b4"
      },
      "outputs": [
        {
          "name": "stdout",
          "output_type": "stream",
          "text": [
            "Máxima diferença absoluta entre V_rec e V_iter: 0.0000000000\n",
            "Número de desacordos na política: 0\n",
            "Políticas e valores coincidem — ambas as versões estão corretas!\n"
          ]
        }
      ],
      "source": [
        "# Resolve pelas duas abordagens\n",
        "V_rec, pi_rec = solve_dp_recursive(params)\n",
        "V_iter, pi_iter = solve_dp_iterative(params)\n",
        "\n",
        "# Calcula diferença máxima entre as tabelas de valor\n",
        "max_abs_diff = np.max(np.abs(V_rec - V_iter))\n",
        "print(f\"Máxima diferença absoluta entre V_rec e V_iter: {max_abs_diff:.10f}\")\n",
        "\n",
        "# Compara políticas (ações ótimas)\n",
        "disagreements = []\n",
        "for t in range(params.T):\n",
        "    for s in range(params.S_max + 1):\n",
        "        if pi_rec[(t, s)] != pi_iter[(t, s)]:\n",
        "            disagreements.append((t, s, pi_rec[(t, s)], pi_iter[(t, s)]))\n",
        "\n",
        "# Exibe resultado\n",
        "print(f\"Número de desacordos na política: {len(disagreements)}\")\n",
        "if not disagreements:\n",
        "    print(\"Políticas e valores coincidem — ambas as versões estão corretas!\")\n"
      ]
    },
    {
      "cell_type": "markdown",
      "metadata": {
        "id": "O3SGSV1KlIOR"
      },
      "source": [
        "# Simulação Monte Carlo para avaliar performance prática da política ótima"
      ]
    },
    {
      "cell_type": "code",
      "execution_count": 16,
      "metadata": {
        "colab": {
          "base_uri": "https://localhost:8080/"
        },
        "id": "zO63LviulHgE",
        "outputId": "0a25aec2-0f0c-4241-e7ef-31f48bbc2174"
      },
      "outputs": [
        {
          "name": "stdout",
          "output_type": "stream",
          "text": [
            "Custo médio (recursivo): 334.02 ± 21.12\n"
          ]
        }
      ],
      "source": [
        "def simulate_policy(params: InventoryParams, policy: Dict[Tuple[int,int], int], initial_s: int = 10, num_runs: int = 200):\n",
        "    \"\"\"\n",
        "    Simula a execução da política ótima por 'num_runs' execuções aleatórias.\n",
        "    Retorna o custo médio e o desvio-padrão dos custos observados.\n",
        "    \"\"\"\n",
        "    total_costs = []\n",
        "\n",
        "    for run in range(num_runs):\n",
        "        s = initial_s\n",
        "        cost_run = 0.0\n",
        "\n",
        "        for t in range(params.T):\n",
        "            a = policy[(t, min(s, params.S_max))]  # aplica política ótima\n",
        "\n",
        "            # Custo de pedido\n",
        "            cost_run += params.unit_cost * a + (params.fixed_order_cost if a > 0 else 0.0)\n",
        "\n",
        "            s_post = s + a  # estoque após pedido\n",
        "\n",
        "            # Amostra uma demanda aleatória segundo a PMF\n",
        "            pmf = params.demand_pmf_funcs[t]\n",
        "            probs = [pmf(d) for d in range(params.S_max + params.A_max + 1)]\n",
        "            d = np.random.choice(range(len(probs)), p=probs)\n",
        "\n",
        "            # Calcula custos de armazenagem e falta\n",
        "            s_end = max(0, s_post - d)\n",
        "            cost_run += params.holding_cost * s_end\n",
        "            cost_run += params.shortage_cost * max(0, d - s_post)\n",
        "\n",
        "            # Atualiza estoque para o próximo dia\n",
        "            s = s_end\n",
        "\n",
        "        total_costs.append(cost_run)\n",
        "\n",
        "    return np.mean(total_costs), np.std(total_costs)\n",
        "\n",
        "\n",
        "# Roda a simulação e exibe resultados\n",
        "mean_cost_rec, std_cost_rec = simulate_policy(params, pi_rec, initial_s=10, num_runs=500)\n",
        "print(f\"Custo médio (recursivo): {mean_cost_rec:.2f} ± {std_cost_rec:.2f}\")"
      ]
    },
    {
      "cell_type": "markdown",
      "metadata": {
        "id": "FVFLgo0wlMzQ"
      },
      "source": [
        "# Exibir política ótima do primeiro dia para uma faixa de estoques"
      ]
    },
    {
      "cell_type": "code",
      "execution_count": 17,
      "metadata": {
        "colab": {
          "base_uri": "https://localhost:8080/"
        },
        "id": "5IeUzI3_lPcw",
        "outputId": "bd9ad68c-d848-4b69-b535-12cc0e88dbd6"
      },
      "outputs": [
        {
          "name": "stdout",
          "output_type": "stream",
          "text": [
            "\n",
            "Política otimizada para o dia 0:\n",
            "Estoque (s) → Quantidade a pedir (a)\n",
            "-----------------------------------\n",
            " 0 → 38\n",
            " 1 → 37\n",
            " 2 → 36\n",
            " 3 → 35\n",
            " 4 → 34\n",
            " 5 → 33\n",
            " 6 → 32\n",
            " 7 → 31\n",
            " 8 → 30\n",
            " 9 → 29\n",
            "10 → 28\n",
            "11 →  0\n",
            "12 →  0\n",
            "13 →  0\n",
            "14 →  0\n",
            "15 →  0\n",
            "16 →  0\n",
            "17 →  0\n",
            "18 →  0\n",
            "19 →  0\n",
            "20 →  0\n",
            "21 →  0\n",
            "22 →  0\n",
            "23 →  0\n",
            "24 →  0\n",
            "25 →  0\n",
            "26 →  0\n",
            "27 →  0\n",
            "28 →  0\n",
            "29 →  0\n"
          ]
        }
      ],
      "source": [
        "def show_policy_for_day(policy: Dict[Tuple[int,int], int], day: int, s_range: int = 30):\n",
        "    \"\"\"\n",
        "    Mostra a política ótima (ação a tomar) para um determinado dia e faixa de estoques.\n",
        "    \"\"\"\n",
        "    print(f\"\\nPolítica otimizada para o dia {day}:\")\n",
        "    print(\"Estoque (s) → Quantidade a pedir (a)\")\n",
        "    print(\"-\" * 35)\n",
        "    for s in range(min(s_range, params.S_max + 1)):\n",
        "        print(f\"{s:2d} → {policy[(day, s)]:2d}\")\n",
        "\n",
        "# Exemplo: mostrar política do primeiro dia\n",
        "show_policy_for_day(pi_iter, day=0, s_range=30)"
      ]
    },
    {
      "cell_type": "markdown",
      "metadata": {
        "id": "vI4uaGaloEyC"
      },
      "source": [
        "# Relatório Final — Política Ótima de Reposição de Estoque com Programação Dinâmica\n",
        "\n",
        "---\n",
        "\n",
        "## 1. Contexto\n",
        "\n",
        "Nas unidades de diagnóstico, o consumo diário de insumos (reagentes e descartáveis) **não é registrado com precisão**, o que compromete o controle de estoque e gera **desperdícios** e **rupturas**.\n",
        "\n",
        "Para lidar com essa incerteza, utilizou-se **Programação Dinâmica (PD)**, uma técnica que permite encontrar a **política ótima de reposição**, minimizando custos esperados e equilibrando excesso e falta de insumos ao longo de um período de 30 dias.\n",
        "\n",
        "---\n",
        "\n",
        "## 2. Estrutura do Modelo\n",
        "\n",
        "O modelo considera:\n",
        "\n",
        "- **Estado (sₜ):** nível de estoque disponível no início do dia;  \n",
        "- **Ação (aₜ):** quantidade a ser pedida no dia;  \n",
        "- **Demanda (Dₜ):** consumo diário, tratado como variável aleatória (ex.: distribuição de Poisson);  \n",
        "- **Transição:** o estoque do próximo dia depende do estoque atual, da ação tomada e da demanda;  \n",
        "- **Custos:** incluem custo fixo por pedido (K), custo unitário de compra (c), custo de armazenagem (h) e custo de falta (p).\n",
        "\n",
        "O objetivo é **minimizar o custo total esperado**, levando em conta esses componentes ao longo de todos os dias.\n",
        "\n",
        "---\n",
        "\n",
        "## 3. Implementação em Python\n",
        "\n",
        "Foram desenvolvidas **duas versões da PD**:\n",
        "\n",
        "### Versão Recursiva (Top-Down)\n",
        "- Calcula o custo ótimo chamando a si mesma de forma recursiva.  \n",
        "- Usa `@lru_cache` para **memorizar subproblemas já resolvidos**, reduzindo tempo de execução.  \n",
        "- Boa para **compreender a estrutura do problema** e validar o modelo.\n",
        "\n",
        "### Versão Iterativa (Bottom-Up)\n",
        "- Constrói uma **tabela de valores** de trás para frente, partindo do último dia.  \n",
        "- Mais **eficiente e escalável**, ideal para uso prático.  \n",
        "- Permite visualizar como o custo e a decisão ótima evoluem ao longo do tempo.\n",
        "\n",
        "Ambas as versões geram **a mesma política ótima** — confirmando a correção do modelo.\n",
        "\n",
        "---\n",
        "\n",
        "## 4. Validação e Resultados\n",
        "\n",
        "Comparação entre as versões:\n",
        "\n",
        "Máxima diferença entre V_rec e V_iter: 0.0000000000\n",
        "Desacordos na política: 0 \n",
        "\n",
        "\n",
        "Isso comprova que:\n",
        "- As duas implementações são **matematicamente consistentes**;  \n",
        "- A política ótima é **única e correta**.\n",
        "\n",
        "Em simulação com cenários aleatórios (Monte Carlo), observou-se um **custo médio estável**, confirmando o bom desempenho da política mesmo sob incerteza.\n",
        "\n",
        "---\n",
        "\n",
        "## 5. Análise e Insights\n",
        "\n",
        "- **Aumentar o custo de falta (p)** → incentiva estoques maiores, reduzindo rupturas.  \n",
        "- **Aumentar o custo de armazenagem (h)** → incentiva estoques menores, reduzindo desperdício.  \n",
        "- **Aumentar o custo fixo de pedido (K)** → gera pedidos mais espaçados e em maior quantidade.\n",
        "\n",
        "Esses parâmetros podem ser ajustados conforme o perfil de consumo e criticidade dos insumos em cada unidade.\n",
        "\n",
        "---\n",
        "\n",
        "## 6. Conclusão\n",
        "\n",
        "A Programação Dinâmica se mostrou uma abordagem **eficiente e adaptável** para o **gerenciamento de estoques sob demanda incerta**, possibilitando:\n",
        "\n",
        "- Melhor **visibilidade e previsibilidade** do consumo;  \n",
        "- Redução de **desperdícios e rupturas**;  \n",
        "- **Automatização da decisão de compra** com base em dados e custo esperado.\n",
        "\n",
        "O modelo pode ser expandido para incluir prazos de entrega, vencimento de insumos ou diferentes categorias de produtos, tornando-se uma ferramenta prática de apoio à decisão."
      ]
    }
  ],
  "metadata": {
    "colab": {
      "provenance": []
    },
    "kernelspec": {
      "display_name": "Python 3",
      "name": "python3"
    },
    "language_info": {
      "name": "python"
    }
  },
  "nbformat": 4,
  "nbformat_minor": 0
}
